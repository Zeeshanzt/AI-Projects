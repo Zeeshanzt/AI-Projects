{
  "cells": [
    {
      "cell_type": "code",
      "execution_count": 3,
      "id": "080e13b9",
      "metadata": {
        "id": "080e13b9"
      },
      "outputs": [],
      "source": [
        "import tensorflow as tf\n",
        "import pandas as pd\n",
        "import numpy as np\n",
        "import matplotlib.pyplot as plt\n",
        "%matplotlib inline"
      ]
    },
    {
      "cell_type": "code",
      "execution_count": 4,
      "id": "5e98877c",
      "metadata": {
        "id": "5e98877c"
      },
      "outputs": [],
      "source": [
        "from tensorflow.keras.callbacks import EarlyStopping\n",
        "from tensorflow.keras.layers import Dense,Conv2D, MaxPooling2D, Flatten, Dropout\n",
        "from tensorflow.keras.datasets import cifar10"
      ]
    },
    {
      "cell_type": "code",
      "execution_count": 5,
      "id": "88e57ffa",
      "metadata": {
        "colab": {
          "base_uri": "https://localhost:8080/"
        },
        "id": "88e57ffa",
        "outputId": "df115cda-ac8f-4c2a-a2d6-a75db03f72b6"
      },
      "outputs": [
        {
          "output_type": "execute_result",
          "data": {
            "text/plain": [
              "module"
            ]
          },
          "metadata": {},
          "execution_count": 5
        }
      ],
      "source": [
        "type(cifar10)"
      ]
    },
    {
      "cell_type": "markdown",
      "id": "8657a3eb",
      "metadata": {
        "id": "8657a3eb"
      },
      "source": [
        "##  Load Data"
      ]
    },
    {
      "cell_type": "code",
      "execution_count": 6,
      "id": "baa401f3",
      "metadata": {
        "colab": {
          "base_uri": "https://localhost:8080/"
        },
        "id": "baa401f3",
        "outputId": "6f480ac3-215c-4463-bc1f-a1791dd818c8"
      },
      "outputs": [
        {
          "output_type": "stream",
          "name": "stdout",
          "text": [
            "Downloading data from https://www.cs.toronto.edu/~kriz/cifar-10-python.tar.gz\n",
            "170500096/170498071 [==============================] - 2s 0us/step\n",
            "170508288/170498071 [==============================] - 2s 0us/step\n"
          ]
        }
      ],
      "source": [
        "data = cifar10.load_data()"
      ]
    },
    {
      "cell_type": "code",
      "execution_count": 7,
      "id": "129cf2b3",
      "metadata": {
        "colab": {
          "base_uri": "https://localhost:8080/"
        },
        "id": "129cf2b3",
        "outputId": "6b4c0505-bd69-4983-cf13-8e50b851b52b"
      },
      "outputs": [
        {
          "output_type": "execute_result",
          "data": {
            "text/plain": [
              "tuple"
            ]
          },
          "metadata": {},
          "execution_count": 7
        }
      ],
      "source": [
        "type(data)"
      ]
    },
    {
      "cell_type": "code",
      "execution_count": 8,
      "id": "53beb6fc",
      "metadata": {
        "id": "53beb6fc"
      },
      "outputs": [],
      "source": [
        "(X_train,Y_train),(X_test,Y_test)=data"
      ]
    },
    {
      "cell_type": "code",
      "execution_count": 9,
      "id": "7d930c72",
      "metadata": {
        "colab": {
          "base_uri": "https://localhost:8080/"
        },
        "id": "7d930c72",
        "outputId": "78b719ef-fba2-400e-c703-a1fdd6eac6af"
      },
      "outputs": [
        {
          "output_type": "execute_result",
          "data": {
            "text/plain": [
              "(32, 32, 3)"
            ]
          },
          "metadata": {},
          "execution_count": 9
        }
      ],
      "source": [
        "X_train[0].shape"
      ]
    },
    {
      "cell_type": "code",
      "execution_count": 10,
      "id": "6c35c3aa",
      "metadata": {
        "colab": {
          "base_uri": "https://localhost:8080/"
        },
        "id": "6c35c3aa",
        "outputId": "88349430-3f44-4f98-f91b-330776e2da53"
      },
      "outputs": [
        {
          "output_type": "execute_result",
          "data": {
            "text/plain": [
              "(10000, 32, 32, 3)"
            ]
          },
          "metadata": {},
          "execution_count": 10
        }
      ],
      "source": [
        "X_test.shape"
      ]
    },
    {
      "cell_type": "markdown",
      "id": "52b10279",
      "metadata": {
        "id": "52b10279"
      },
      "source": [
        "## Normalization "
      ]
    },
    {
      "cell_type": "code",
      "execution_count": 11,
      "id": "c4629a7e",
      "metadata": {
        "id": "c4629a7e"
      },
      "outputs": [],
      "source": [
        "X_train = X_train/255.0\n",
        "X_test = X_test/255.0"
      ]
    },
    {
      "cell_type": "code",
      "execution_count": 12,
      "id": "aff42285",
      "metadata": {
        "id": "aff42285"
      },
      "outputs": [],
      "source": [
        "def get_model(input_shape):\n",
        "    model = tf.keras.Sequential([\n",
        "        Conv2D(filters= 16, kernel_size = 3, input_shape= input_shape ,activation = 'relu', padding = 'same'),\n",
        "        MaxPooling2D((2,2)),\n",
        "        Conv2D(filters= 32, kernel_size = 3, input_shape= input_shape ,activation = 'relu', padding = 'same'),\n",
        "        MaxPooling2D((2,2)),\n",
        "        Flatten(),\n",
        "        Dense(256, activation = 'relu'),\n",
        "        Dropout(0.3),\n",
        "        Dense(256, activation = 'relu'),\n",
        "        Dropout(0.3),\n",
        "        Dense(10, activation = 'softmax')\n",
        "    ])\n",
        "    return model"
      ]
    },
    {
      "cell_type": "code",
      "execution_count": 13,
      "id": "7a6acb52",
      "metadata": {
        "id": "7a6acb52"
      },
      "outputs": [],
      "source": [
        "model = get_model(X_train[0].shape)"
      ]
    },
    {
      "cell_type": "code",
      "execution_count": 14,
      "id": "31269aac",
      "metadata": {
        "colab": {
          "base_uri": "https://localhost:8080/"
        },
        "id": "31269aac",
        "outputId": "a915bfc5-6f6f-4e7a-d7ca-25a71039493e"
      },
      "outputs": [
        {
          "output_type": "stream",
          "name": "stdout",
          "text": [
            "Model: \"sequential\"\n",
            "_________________________________________________________________\n",
            " Layer (type)                Output Shape              Param #   \n",
            "=================================================================\n",
            " conv2d (Conv2D)             (None, 32, 32, 16)        448       \n",
            "                                                                 \n",
            " max_pooling2d (MaxPooling2D  (None, 16, 16, 16)       0         \n",
            " )                                                               \n",
            "                                                                 \n",
            " conv2d_1 (Conv2D)           (None, 16, 16, 32)        4640      \n",
            "                                                                 \n",
            " max_pooling2d_1 (MaxPooling  (None, 8, 8, 32)         0         \n",
            " 2D)                                                             \n",
            "                                                                 \n",
            " flatten (Flatten)           (None, 2048)              0         \n",
            "                                                                 \n",
            " dense (Dense)               (None, 256)               524544    \n",
            "                                                                 \n",
            " dropout (Dropout)           (None, 256)               0         \n",
            "                                                                 \n",
            " dense_1 (Dense)             (None, 256)               65792     \n",
            "                                                                 \n",
            " dropout_1 (Dropout)         (None, 256)               0         \n",
            "                                                                 \n",
            " dense_2 (Dense)             (None, 10)                2570      \n",
            "                                                                 \n",
            "=================================================================\n",
            "Total params: 597,994\n",
            "Trainable params: 597,994\n",
            "Non-trainable params: 0\n",
            "_________________________________________________________________\n"
          ]
        }
      ],
      "source": [
        "model.summary()"
      ]
    },
    {
      "cell_type": "code",
      "execution_count": 15,
      "id": "03c85539",
      "metadata": {
        "id": "03c85539"
      },
      "outputs": [],
      "source": [
        "model.compile(loss = 'sparse_categorical_crossentropy',\n",
        "              optimizer = 'adam',\n",
        "              metrics = ['accuracy']\n",
        "             )"
      ]
    },
    {
      "cell_type": "code",
      "execution_count": 16,
      "id": "45c64da8",
      "metadata": {
        "colab": {
          "base_uri": "https://localhost:8080/"
        },
        "id": "45c64da8",
        "outputId": "b5c797a2-3e2d-4038-c2b4-c34390193186"
      },
      "outputs": [
        {
          "output_type": "stream",
          "name": "stdout",
          "text": [
            "Epoch 1/5\n",
            "665/665 [==============================] - 43s 63ms/step - loss: 1.5986 - accuracy: 0.4123 - val_loss: 1.2934 - val_accuracy: 0.5279\n",
            "Epoch 2/5\n",
            "665/665 [==============================] - 41s 62ms/step - loss: 1.2137 - accuracy: 0.5648 - val_loss: 1.2331 - val_accuracy: 0.5603\n",
            "Epoch 3/5\n",
            "665/665 [==============================] - 42s 64ms/step - loss: 1.0695 - accuracy: 0.6207 - val_loss: 1.0143 - val_accuracy: 0.6349\n",
            "Epoch 4/5\n",
            "665/665 [==============================] - 41s 62ms/step - loss: 0.9666 - accuracy: 0.6596 - val_loss: 1.0138 - val_accuracy: 0.6455\n",
            "Epoch 5/5\n",
            "665/665 [==============================] - 41s 62ms/step - loss: 0.8923 - accuracy: 0.6848 - val_loss: 0.9568 - val_accuracy: 0.6676\n"
          ]
        }
      ],
      "source": [
        "history = model.fit(X_train, Y_train,validation_split=0.15,batch_size = 64, epochs = 5)"
      ]
    },
    {
      "cell_type": "code",
      "execution_count": 17,
      "id": "7d6cedf6",
      "metadata": {
        "id": "7d6cedf6"
      },
      "outputs": [],
      "source": [
        "history = pd.DataFrame(history.history)"
      ]
    },
    {
      "cell_type": "code",
      "execution_count": 18,
      "id": "5319029e",
      "metadata": {
        "colab": {
          "base_uri": "https://localhost:8080/",
          "height": 282
        },
        "id": "5319029e",
        "outputId": "2bddc3ce-da2a-4624-d616-9a5016706bf5"
      },
      "outputs": [
        {
          "output_type": "execute_result",
          "data": {
            "text/plain": [
              "<matplotlib.legend.Legend at 0x7f9515fe8e10>"
            ]
          },
          "metadata": {},
          "execution_count": 18
        },
        {
          "output_type": "display_data",
          "data": {
            "text/plain": [
              "<Figure size 432x288 with 1 Axes>"
            ],
            "image/png": "[encoded data removed]"
          },
          "metadata": {
            "needs_background": "light"
          }
        }
      ],
      "source": [
        "plt.plot(history['loss'])\n",
        "plt.plot(history['val_loss'])\n",
        "plt.legend(['Loss','Val_loss'])"
      ]
    },
    {
      "cell_type": "code",
      "execution_count": 19,
      "id": "f6fd3438",
      "metadata": {
        "colab": {
          "base_uri": "https://localhost:8080/",
          "height": 282
        },
        "id": "f6fd3438",
        "outputId": "ae6f0833-fc1c-491b-9a65-88cbc2d56fdf"
      },
      "outputs": [
        {
          "output_type": "execute_result",
          "data": {
            "text/plain": [
              "<matplotlib.legend.Legend at 0x7f951a2baf10>"
            ]
          },
          "metadata": {},
          "execution_count": 19
        },
        {
          "output_type": "display_data",
          "data": {
            "text/plain": [
              "<Figure size 432x288 with 1 Axes>"
            ],
            "image/png": "[encoded data removed]"
          },
          "metadata": {
            "needs_background": "light"
          }
        }
      ],
      "source": [
        "plt.plot(history['accuracy'])\n",
        "plt.plot(history['val_accuracy'])\n",
        "plt.legend(['accuracy','Val_accuracy'])"
      ]
    },
    {
      "cell_type": "code",
      "execution_count": 20,
      "id": "7fe3e382",
      "metadata": {
        "colab": {
          "base_uri": "https://localhost:8080/"
        },
        "id": "7fe3e382",
        "outputId": "86c57f6d-a99b-4e1b-8201-da139a6a9efc"
      },
      "outputs": [
        {
          "output_type": "stream",
          "name": "stdout",
          "text": [
            "313/313 - 3s - loss: 0.9606 - accuracy: 0.6646 - 3s/epoch - 9ms/step\n"
          ]
        },
        {
          "output_type": "execute_result",
          "data": {
            "text/plain": [
              "[0.9606254696846008, 0.6646000146865845]"
            ]
          },
          "metadata": {},
          "execution_count": 20
        }
      ],
      "source": [
        "model.evaluate(X_test,Y_test, verbose=2)"
      ]
    },
    {
      "cell_type": "code",
      "execution_count": null,
      "id": "c67176cf",
      "metadata": {
        "id": "c67176cf",
        "outputId": "75f6f245-3d05-4aa1-fd42-411a9296f4c9"
      },
      "outputs": [
        {
          "data": {
            "text/plain": [
              "<matplotlib.image.AxesImage at 0x19c680c71c8>"
            ]
          },
          "execution_count": 115,
          "metadata": {},
          "output_type": "execute_result"
        },
        {
          "data": {
            "image/png": "[encoded data removed]",
            "text/plain": [
              "<Figure size 432x288 with 1 Axes>"
            ]
          },
          "metadata": {
            "needs_background": "light"
          },
          "output_type": "display_data"
        }
      ],
      "source": [
        "plt.imshow(X_train[0])"
      ]
    },
    {
      "cell_type": "code",
      "execution_count": null,
      "id": "9277d0d8",
      "metadata": {
        "id": "9277d0d8",
        "outputId": "1fb276db-be22-4f65-82f8-9bd74bc3f5c3"
      },
      "outputs": [
        {
          "data": {
            "text/plain": [
              "'2.0.0'"
            ]
          },
          "execution_count": 113,
          "metadata": {},
          "output_type": "execute_result"
        }
      ],
      "source": [
        "tf.__version__"
      ]
    },
    {
      "cell_type": "code",
      "execution_count": null,
      "id": "59ca3c73",
      "metadata": {
        "id": "59ca3c73"
      },
      "outputs": [],
      "source": [
        ""
      ]
    }
  ],
  "metadata": {
    "kernelspec": {
      "display_name": "Python 3",
      "language": "python",
      "name": "python3"
    },
    "language_info": {
      "codemirror_mode": {
        "name": "ipython",
        "version": 3
      },
      "file_extension": ".py",
      "mimetype": "text/x-python",
      "name": "python",
      "nbconvert_exporter": "python",
      "pygments_lexer": "ipython3",
      "version": "3.7.10"
    },
    "colab": {
      "name": "Animal Image Classification.ipynb",
      "provenance": []
    }
  },
  "nbformat": 4,
  "nbformat_minor": 5
}