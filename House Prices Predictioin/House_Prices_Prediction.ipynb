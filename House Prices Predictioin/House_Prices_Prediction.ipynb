{
  "cells": [
    {
      "cell_type": "code",
      "execution_count": null,
      "id": "0c88fc97",
      "metadata": {
        "execution": {
          "iopub.execute_input": "2021-09-02T06:22:27.949075Z",
          "iopub.status.busy": "2021-09-02T06:22:27.948436Z",
          "iopub.status.idle": "2021-09-02T06:22:29.145905Z",
          "shell.execute_reply": "2021-09-02T06:22:29.146422Z",
          "shell.execute_reply.started": "2021-09-02T06:11:07.669872Z"
        },
        "papermill": {
          "duration": 1.219547,
          "end_time": "2021-09-02T06:22:29.146713",
          "exception": false,
          "start_time": "2021-09-02T06:22:27.927166",
          "status": "completed"
        },
        "tags": [],
        "id": "0c88fc97"
      },
      "outputs": [],
      "source": [
        "# Code you have previously used to load data\n",
        "import pandas as pd\n",
        "\n",
        "# Path of the file to read\n",
        "iowa_file_path = '../input/home-data-for-ml-course/train.csv'\n",
        "\n",
        "home_data = pd.read_csv(iowa_file_path)\n",
        "\n",
        "# Set up code checking\n",
        "from learntools.core import binder\n",
        "binder.bind(globals())\n",
        "from learntools.machine_learning.ex3 import *\n",
        "\n",
        "print(\"Setup Complete\")"
      ]
    },
    {
      "cell_type": "code",
      "execution_count": null,
      "id": "d0e28f19",
      "metadata": {
        "execution": {
          "iopub.execute_input": "2021-09-02T06:22:29.201357Z",
          "iopub.status.busy": "2021-09-02T06:22:29.200477Z",
          "iopub.status.idle": "2021-09-02T06:22:29.205096Z",
          "shell.execute_reply": "2021-09-02T06:22:29.204544Z",
          "shell.execute_reply.started": "2021-09-02T06:11:33.018054Z"
        },
        "papermill": {
          "duration": 0.023144,
          "end_time": "2021-09-02T06:22:29.205223",
          "exception": false,
          "start_time": "2021-09-02T06:22:29.182079",
          "status": "completed"
        },
        "tags": [],
        "id": "d0e28f19",
        "outputId": "7b27269e-8b12-496f-819f-af9429d4cd27"
      },
      "outputs": [
        {
          "data": {
            "text/plain": [
              "Index(['Id', 'MSSubClass', 'MSZoning', 'LotFrontage', 'LotArea', 'Street',\n",
              "       'Alley', 'LotShape', 'LandContour', 'Utilities', 'LotConfig',\n",
              "       'LandSlope', 'Neighborhood', 'Condition1', 'Condition2', 'BldgType',\n",
              "       'HouseStyle', 'OverallQual', 'OverallCond', 'YearBuilt', 'YearRemodAdd',\n",
              "       'RoofStyle', 'RoofMatl', 'Exterior1st', 'Exterior2nd', 'MasVnrType',\n",
              "       'MasVnrArea', 'ExterQual', 'ExterCond', 'Foundation', 'BsmtQual',\n",
              "       'BsmtCond', 'BsmtExposure', 'BsmtFinType1', 'BsmtFinSF1',\n",
              "       'BsmtFinType2', 'BsmtFinSF2', 'BsmtUnfSF', 'TotalBsmtSF', 'Heating',\n",
              "       'HeatingQC', 'CentralAir', 'Electrical', '1stFlrSF', '2ndFlrSF',\n",
              "       'LowQualFinSF', 'GrLivArea', 'BsmtFullBath', 'BsmtHalfBath', 'FullBath',\n",
              "       'HalfBath', 'BedroomAbvGr', 'KitchenAbvGr', 'KitchenQual',\n",
              "       'TotRmsAbvGrd', 'Functional', 'Fireplaces', 'FireplaceQu', 'GarageType',\n",
              "       'GarageYrBlt', 'GarageFinish', 'GarageCars', 'GarageArea', 'GarageQual',\n",
              "       'GarageCond', 'PavedDrive', 'WoodDeckSF', 'OpenPorchSF',\n",
              "       'EnclosedPorch', '3SsnPorch', 'ScreenPorch', 'PoolArea', 'PoolQC',\n",
              "       'Fence', 'MiscFeature', 'MiscVal', 'MoSold', 'YrSold', 'SaleType',\n",
              "       'SaleCondition', 'SalePrice'],\n",
              "      dtype='object')"
            ]
          },
          "execution_count": 2,
          "metadata": {},
          "output_type": "execute_result"
        }
      ],
      "source": [
        "# print the list of columns in the dataset to find the name of the prediction target\n",
        "home_data.columns"
      ]
    },
    {
      "cell_type": "code",
      "execution_count": null,
      "id": "17f9090d",
      "metadata": {
        "execution": {
          "iopub.execute_input": "2021-09-02T06:22:29.240829Z",
          "iopub.status.busy": "2021-09-02T06:22:29.239663Z",
          "iopub.status.idle": "2021-09-02T06:22:29.246425Z",
          "shell.execute_reply": "2021-09-02T06:22:29.246827Z",
          "shell.execute_reply.started": "2021-09-02T06:12:41.945624Z"
        },
        "papermill": {
          "duration": 0.030064,
          "end_time": "2021-09-02T06:22:29.246997",
          "exception": false,
          "start_time": "2021-09-02T06:22:29.216933",
          "status": "completed"
        },
        "tags": [],
        "id": "17f9090d"
      },
      "outputs": [],
      "source": [
        "y = home_data.SalePrice\n"
      ]
    },
    {
      "cell_type": "code",
      "execution_count": null,
      "id": "25a559b2",
      "metadata": {
        "execution": {
          "iopub.execute_input": "2021-09-02T06:22:29.336578Z",
          "iopub.status.busy": "2021-09-02T06:22:29.335964Z",
          "iopub.status.idle": "2021-09-02T06:22:29.341371Z",
          "shell.execute_reply": "2021-09-02T06:22:29.341897Z",
          "shell.execute_reply.started": "2021-09-02T06:18:18.778956Z"
        },
        "papermill": {
          "duration": 0.02578,
          "end_time": "2021-09-02T06:22:29.342058",
          "exception": false,
          "start_time": "2021-09-02T06:22:29.316278",
          "status": "completed"
        },
        "tags": [],
        "id": "25a559b2"
      },
      "outputs": [],
      "source": [
        "# Create the list of features below\n",
        "feature_names =  ['LotArea','YearBuilt','1stFlrSF','2ndFlrSF','FullBath','BedroomAbvGr','TotRmsAbvGrd']\n",
        "\n",
        "# Select data corresponding to features in feature_names\n",
        "X = home_data[feature_names]\n"
      ]
    },
    {
      "cell_type": "code",
      "execution_count": null,
      "id": "a8a3c2c3",
      "metadata": {
        "execution": {
          "iopub.execute_input": "2021-09-02T06:22:29.497989Z",
          "iopub.status.busy": "2021-09-02T06:22:29.497395Z",
          "iopub.status.idle": "2021-09-02T06:22:29.512011Z",
          "shell.execute_reply": "2021-09-02T06:22:29.511492Z",
          "shell.execute_reply.started": "2021-09-02T06:20:49.097743Z"
        },
        "papermill": {
          "duration": 0.035587,
          "end_time": "2021-09-02T06:22:29.512147",
          "exception": false,
          "start_time": "2021-09-02T06:22:29.476560",
          "status": "completed"
        },
        "tags": [],
        "id": "a8a3c2c3"
      },
      "outputs": [],
      "source": [
        "# from _ import _\n",
        "#specify the model. \n",
        "#For model reproducibility, set a numeric value for random_state when specifying the model\n",
        "from sklearn.tree import DecisionTreeRegressor\n",
        "iowa_model = DecisionTreeRegressor(random_state=1)\n",
        "\n",
        "# Fit the model\n",
        "iowa_model.fit(X,y)\n",
        "\n"
      ]
    },
    {
      "cell_type": "code",
      "execution_count": null,
      "id": "298d32fa",
      "metadata": {
        "execution": {
          "iopub.execute_input": "2021-09-02T06:22:29.610411Z",
          "iopub.status.busy": "2021-09-02T06:22:29.609420Z",
          "iopub.status.idle": "2021-09-02T06:22:29.621258Z",
          "shell.execute_reply": "2021-09-02T06:22:29.621943Z",
          "shell.execute_reply.started": "2021-09-02T06:21:20.409867Z"
        },
        "papermill": {
          "duration": 0.033499,
          "end_time": "2021-09-02T06:22:29.622162",
          "exception": false,
          "start_time": "2021-09-02T06:22:29.588663",
          "status": "completed"
        },
        "tags": [],
        "id": "298d32fa",
        "outputId": "5691f5c7-89e6-4bee-d653-5b87362bf95c"
      },
      "outputs": [
        {
          "name": "stdout",
          "output_type": "stream",
          "text": [
            "[208500. 181500. 223500. ... 266500. 142125. 147500.]\n"
          ]
        },
        {
          "data": {
            "application/javascript": [
              "parent.postMessage({\"jupyterEvent\": \"custom.exercise_interaction\", \"data\": {\"outcomeType\": 1, \"valueTowardsCompletion\": 0.25, \"interactionType\": 1, \"questionType\": 2, \"questionId\": \"4_MakePredictions\", \"learnToolsVersion\": \"0.3.4\", \"failureMessage\": \"\", \"exceptionClass\": \"\", \"trace\": \"\"}}, \"*\")"
            ],
            "text/plain": [
              "<IPython.core.display.Javascript object>"
            ]
          },
          "metadata": {},
          "output_type": "display_data"
        },
        {
          "data": {
            "text/markdown": [
              "<span style=\"color:#33cc33\">Correct</span>"
            ],
            "text/plain": [
              "Correct"
            ]
          },
          "metadata": {},
          "output_type": "display_data"
        }
      ],
      "source": [
        "predictions = iowa_model.predict(X)\n",
        "print(predictions)\n"
      ]
    },
    {
      "cell_type": "markdown",
      "id": "eb116297",
      "metadata": {
        "papermill": {
          "duration": 0.015251,
          "end_time": "2021-09-02T06:22:29.803651",
          "exception": false,
          "start_time": "2021-09-02T06:22:29.788400",
          "status": "completed"
        },
        "tags": [],
        "id": "eb116297"
      },
      "source": [
        "---\n",
        "\n",
        "\n",
        "\n",
        "\n",
        "*Have questions or comments? Visit the [Learn Discussion forum](https://www.kaggle.com/learn-forum/161285) to chat with other Learners.*"
      ]
    }
  ],
  "metadata": {
    "kernelspec": {
      "display_name": "Python 3",
      "language": "python",
      "name": "python3"
    },
    "language_info": {
      "codemirror_mode": {
        "name": "ipython",
        "version": 3
      },
      "file_extension": ".py",
      "mimetype": "text/x-python",
      "name": "python",
      "nbconvert_exporter": "python",
      "pygments_lexer": "ipython3",
      "version": "3.7.10"
    },
    "papermill": {
      "default_parameters": {},
      "duration": 9.347715,
      "end_time": "2021-09-02T06:22:30.529400",
      "environment_variables": {},
      "exception": null,
      "input_path": "__notebook__.ipynb",
      "output_path": "__notebook__.ipynb",
      "parameters": {},
      "start_time": "2021-09-02T06:22:21.181685",
      "version": "2.3.3"
    },
    "colab": {
      "name": "House Prices Prediction.ipynb",
      "provenance": []
    }
  },
  "nbformat": 4,
  "nbformat_minor": 5
}