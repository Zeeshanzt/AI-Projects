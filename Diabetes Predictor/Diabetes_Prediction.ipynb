{
  "cells": [
    {
      "cell_type": "markdown",
      "id": "bd2bf1f6",
      "metadata": {
        "id": "bd2bf1f6"
      },
      "source": [
        "# Validation, Regularization and CallBacks"
      ]
    },
    {
      "cell_type": "markdown",
      "id": "a11e3463",
      "metadata": {
        "id": "a11e3463"
      },
      "source": [
        "## Validation"
      ]
    },
    {
      "cell_type": "markdown",
      "id": "47702888",
      "metadata": {
        "id": "47702888"
      },
      "source": [
        "Validation Sets are used to check the performance of the model trained on training data."
      ]
    },
    {
      "cell_type": "code",
      "execution_count": 1,
      "id": "58523c5a",
      "metadata": {
        "colab": {
          "base_uri": "https://localhost:8080/"
        },
        "id": "58523c5a",
        "outputId": "6726505b-ac0b-40c3-c0ae-cd42543419ea"
      },
      "outputs": [
        {
          "output_type": "stream",
          "name": "stdout",
          "text": [
            "2.8.2\n"
          ]
        }
      ],
      "source": [
        "import tensorflow as tf\n",
        "print(tf.__version__)"
      ]
    },
    {
      "cell_type": "code",
      "execution_count": 2,
      "id": "0cbc6dfb",
      "metadata": {
        "id": "0cbc6dfb"
      },
      "outputs": [],
      "source": [
        "from sklearn.datasets import load_diabetes\n",
        "diabetes_data = load_diabetes()"
      ]
    },
    {
      "cell_type": "code",
      "execution_count": 3,
      "id": "3d0c8026",
      "metadata": {
        "colab": {
          "base_uri": "https://localhost:8080/"
        },
        "id": "3d0c8026",
        "outputId": "6498a68a-4606-488e-b85d-b2a51ba580d7"
      },
      "outputs": [
        {
          "output_type": "execute_result",
          "data": {
            "text/plain": [
              "sklearn.utils.Bunch"
            ]
          },
          "metadata": {},
          "execution_count": 3
        }
      ],
      "source": [
        "type(diabetes_data)"
      ]
    },
    {
      "cell_type": "code",
      "execution_count": 4,
      "id": "b93a34af",
      "metadata": {
        "colab": {
          "base_uri": "https://localhost:8080/"
        },
        "id": "b93a34af",
        "outputId": "c96e2ed4-19d6-4d2e-88f5-47b433c1d15f"
      },
      "outputs": [
        {
          "output_type": "execute_result",
          "data": {
            "text/plain": [
              "dict_keys(['data', 'target', 'frame', 'DESCR', 'feature_names', 'data_filename', 'target_filename', 'data_module'])"
            ]
          },
          "metadata": {},
          "execution_count": 4
        }
      ],
      "source": [
        "diabetes_data.keys()"
      ]
    },
    {
      "cell_type": "code",
      "execution_count": 5,
      "id": "aad2b544",
      "metadata": {
        "colab": {
          "base_uri": "https://localhost:8080/"
        },
        "id": "aad2b544",
        "outputId": "834b1f0f-1a0b-4abf-a773-ee557590c9ee"
      },
      "outputs": [
        {
          "output_type": "stream",
          "name": "stdout",
          "text": [
            ".. _diabetes_dataset:\n",
            "\n",
            "Diabetes dataset\n",
            "----------------\n",
            "\n",
            "Ten baseline variables, age, sex, body mass index, average blood\n",
            "pressure, and six blood serum measurements were obtained for each of n =\n",
            "442 diabetes patients, as well as the response of interest, a\n",
            "quantitative measure of disease progression one year after baseline.\n",
            "\n",
            "**Data Set Characteristics:**\n",
            "\n",
            "  :Number of Instances: 442\n",
            "\n",
            "  :Number of Attributes: First 10 columns are numeric predictive values\n",
            "\n",
            "  :Target: Column 11 is a quantitative measure of disease progression one year after baseline\n",
            "\n",
            "  :Attribute Information:\n",
            "      - age     age in years\n",
            "      - sex\n",
            "      - bmi     body mass index\n",
            "      - bp      average blood pressure\n",
            "      - s1      tc, total serum cholesterol\n",
            "      - s2      ldl, low-density lipoproteins\n",
            "      - s3      hdl, high-density lipoproteins\n",
            "      - s4      tch, total cholesterol / HDL\n",
            "      - s5      ltg, possibly log of serum triglycerides level\n",
            "      - s6      glu, blood sugar level\n",
            "\n",
            "Note: Each of these 10 feature variables have been mean centered and scaled by the standard deviation times `n_samples` (i.e. the sum of squares of each column totals 1).\n",
            "\n",
            "Source URL:\n",
            "https://www4.stat.ncsu.edu/~boos/var.select/diabetes.html\n",
            "\n",
            "For more information see:\n",
            "Bradley Efron, Trevor Hastie, Iain Johnstone and Robert Tibshirani (2004) \"Least Angle Regression,\" Annals of Statistics (with discussion), 407-499.\n",
            "(https://web.stanford.edu/~hastie/Papers/LARS/LeastAngle_2002.pdf)\n"
          ]
        }
      ],
      "source": [
        "print(diabetes_data['DESCR'])"
      ]
    },
    {
      "cell_type": "markdown",
      "id": "d4f249f1",
      "metadata": {
        "id": "d4f249f1"
      },
      "source": [
        "### Features and Target Seperation"
      ]
    },
    {
      "cell_type": "code",
      "execution_count": 6,
      "id": "291a51f5",
      "metadata": {
        "id": "291a51f5"
      },
      "outputs": [],
      "source": [
        "data = diabetes_data['data']\n",
        "target = diabetes_data['target']"
      ]
    },
    {
      "cell_type": "code",
      "execution_count": 7,
      "id": "02c26c9b",
      "metadata": {
        "colab": {
          "base_uri": "https://localhost:8080/"
        },
        "id": "02c26c9b",
        "outputId": "5c5ec318-c3d6-4abb-aa9d-bd5004daaa64"
      },
      "outputs": [
        {
          "output_type": "execute_result",
          "data": {
            "text/plain": [
              "((442, 10), (442,))"
            ]
          },
          "metadata": {},
          "execution_count": 7
        }
      ],
      "source": [
        "data.shape, target.shape"
      ]
    },
    {
      "cell_type": "code",
      "execution_count": 8,
      "id": "2f135510",
      "metadata": {
        "id": "2f135510"
      },
      "outputs": [],
      "source": [
        "from sklearn.model_selection import train_test_split"
      ]
    },
    {
      "cell_type": "code",
      "execution_count": 9,
      "id": "4e698bd2",
      "metadata": {
        "id": "4e698bd2"
      },
      "outputs": [],
      "source": [
        "train_data, test_data, train_y, test_y = train_test_split(data, target, test_size=0.1)"
      ]
    },
    {
      "cell_type": "code",
      "execution_count": 10,
      "id": "c256a306",
      "metadata": {
        "colab": {
          "base_uri": "https://localhost:8080/"
        },
        "id": "c256a306",
        "outputId": "af9d3fac-b695-4735-a0d4-bda648d87417"
      },
      "outputs": [
        {
          "output_type": "stream",
          "name": "stdout",
          "text": [
            "(397, 10)\n",
            "(45, 10)\n",
            "(397,)\n",
            "(45,)\n"
          ]
        }
      ],
      "source": [
        "print(train_data.shape)\n",
        "print(test_data.shape)\n",
        "print(train_y.shape)\n",
        "print(test_y.shape)"
      ]
    },
    {
      "cell_type": "code",
      "execution_count": 11,
      "id": "92694f2f",
      "metadata": {
        "id": "92694f2f"
      },
      "outputs": [],
      "source": [
        "from tensorflow.keras.models import Sequential\n",
        "from tensorflow.keras.layers import Dense"
      ]
    },
    {
      "cell_type": "code",
      "execution_count": 12,
      "id": "3bd7e533",
      "metadata": {
        "id": "3bd7e533"
      },
      "outputs": [],
      "source": [
        "def get_model():\n",
        "    model = Sequential([\n",
        "        Dense(units = 128, activation ='relu', input_shape= (train_data.shape[1],)),\n",
        "        Dense(128, activation='relu'),\n",
        "        Dense(128, activation='relu'),\n",
        "        Dense(128, activation='relu'),\n",
        "        Dense(128, activation='relu'),\n",
        "        Dense(128, activation='relu'),\n",
        "        Dense(1)\n",
        "    ])\n",
        "    return model"
      ]
    },
    {
      "cell_type": "code",
      "execution_count": 13,
      "id": "16f753ed",
      "metadata": {
        "id": "16f753ed"
      },
      "outputs": [],
      "source": [
        "model = get_model()"
      ]
    },
    {
      "cell_type": "code",
      "execution_count": 14,
      "id": "e6404fda",
      "metadata": {
        "colab": {
          "base_uri": "https://localhost:8080/"
        },
        "id": "e6404fda",
        "outputId": "79aab77b-6fdc-486a-c656-70e52bf4ab8a"
      },
      "outputs": [
        {
          "output_type": "stream",
          "name": "stdout",
          "text": [
            "Model: \"sequential\"\n",
            "_________________________________________________________________\n",
            " Layer (type)                Output Shape              Param #   \n",
            "=================================================================\n",
            " dense (Dense)               (None, 128)               1408      \n",
            "                                                                 \n",
            " dense_1 (Dense)             (None, 128)               16512     \n",
            "                                                                 \n",
            " dense_2 (Dense)             (None, 128)               16512     \n",
            "                                                                 \n",
            " dense_3 (Dense)             (None, 128)               16512     \n",
            "                                                                 \n",
            " dense_4 (Dense)             (None, 128)               16512     \n",
            "                                                                 \n",
            " dense_5 (Dense)             (None, 128)               16512     \n",
            "                                                                 \n",
            " dense_6 (Dense)             (None, 1)                 129       \n",
            "                                                                 \n",
            "=================================================================\n",
            "Total params: 84,097\n",
            "Trainable params: 84,097\n",
            "Non-trainable params: 0\n",
            "_________________________________________________________________\n"
          ]
        }
      ],
      "source": [
        "model.summary()"
      ]
    },
    {
      "cell_type": "code",
      "execution_count": 15,
      "id": "1bc9ac76",
      "metadata": {
        "id": "1bc9ac76"
      },
      "outputs": [],
      "source": [
        "model.compile(optimizer= 'adam',\n",
        "             loss='mae',\n",
        "             metrics=['mae'])"
      ]
    },
    {
      "cell_type": "code",
      "execution_count": 16,
      "id": "ffa3d553",
      "metadata": {
        "id": "ffa3d553"
      },
      "outputs": [],
      "source": [
        "history = model.fit(train_data, train_y, validation_split = 0.15, epochs= 100, batch_size = 64, verbose =False)"
      ]
    },
    {
      "cell_type": "code",
      "execution_count": 17,
      "id": "4599bf2a",
      "metadata": {
        "colab": {
          "base_uri": "https://localhost:8080/"
        },
        "id": "4599bf2a",
        "outputId": "c5d3e452-ed47-4772-c150-4c960ef0af56"
      },
      "outputs": [
        {
          "output_type": "stream",
          "name": "stdout",
          "text": [
            "2/2 - 0s - loss: 45.0097 - mae: 45.0097 - 53ms/epoch - 27ms/step\n"
          ]
        },
        {
          "output_type": "execute_result",
          "data": {
            "text/plain": [
              "[45.00971603393555, 45.00971603393555]"
            ]
          },
          "metadata": {},
          "execution_count": 17
        }
      ],
      "source": [
        "model.evaluate(test_data,test_y, verbose =2)"
      ]
    },
    {
      "cell_type": "code",
      "execution_count": 18,
      "id": "9fe42d3e",
      "metadata": {
        "id": "9fe42d3e"
      },
      "outputs": [],
      "source": [
        "import matplotlib.pyplot as plt\n",
        "%matplotlib inline"
      ]
    },
    {
      "cell_type": "code",
      "execution_count": 19,
      "id": "67caa98c",
      "metadata": {
        "colab": {
          "base_uri": "https://localhost:8080/",
          "height": 297
        },
        "id": "67caa98c",
        "outputId": "9c0a5956-748d-44b9-b56c-0d4cdfc10e45"
      },
      "outputs": [
        {
          "output_type": "display_data",
          "data": {
            "text/plain": [
              "<Figure size 432x288 with 1 Axes>"
            ],
            "image/png": "[encoded data removed]"
          },
          "metadata": {
            "needs_background": "light"
          }
        }
      ],
      "source": [
        "plt.plot(history.history['loss'])\n",
        "plt.plot(history.history['val_loss'])\n",
        "plt.xlabel('Epochs')\n",
        "plt.ylabel('Loss')\n",
        "plt.title('Loss vs Epochs')\n",
        "plt.legend(['Training','Validation'])\n",
        "plt.tight_layout()\n",
        "plt.show()"
      ]
    },
    {
      "cell_type": "markdown",
      "id": "7291d768",
      "metadata": {
        "id": "7291d768"
      },
      "source": [
        "Yeah now that happens when you forget normalization you idiot"
      ]
    },
    {
      "cell_type": "markdown",
      "id": "678a36d7",
      "metadata": {
        "id": "678a36d7"
      },
      "source": [
        "### Normalization"
      ]
    },
    {
      "cell_type": "code",
      "execution_count": 20,
      "id": "df72ffa6",
      "metadata": {
        "id": "df72ffa6"
      },
      "outputs": [],
      "source": [
        "data = diabetes_data['data']\n",
        "target = diabetes_data['target']"
      ]
    },
    {
      "cell_type": "code",
      "execution_count": 21,
      "id": "f416f16f",
      "metadata": {
        "colab": {
          "base_uri": "https://localhost:8080/"
        },
        "id": "f416f16f",
        "outputId": "24f10939-740f-4158-913c-2ed7fc8552d9"
      },
      "outputs": [
        {
          "output_type": "execute_result",
          "data": {
            "text/plain": [
              "array([151.,  75., 141., 206., 135.,  97., 138.,  63., 110., 310., 101.,\n",
              "        69., 179., 185., 118., 171., 166., 144.,  97., 168.,  68.,  49.,\n",
              "        68., 245., 184., 202., 137.,  85., 131., 283., 129.,  59., 341.,\n",
              "        87.,  65., 102., 265., 276., 252.,  90., 100.,  55.,  61.,  92.,\n",
              "       259.,  53., 190., 142.,  75., 142., 155., 225.,  59., 104., 182.,\n",
              "       128.,  52.,  37., 170., 170.,  61., 144.,  52., 128.,  71., 163.,\n",
              "       150.,  97., 160., 178.,  48., 270., 202., 111.,  85.,  42., 170.,\n",
              "       200., 252., 113., 143.,  51.,  52., 210.,  65., 141.,  55., 134.,\n",
              "        42., 111.,  98., 164.,  48.,  96.,  90., 162., 150., 279.,  92.,\n",
              "        83., 128., 102., 302., 198.,  95.,  53., 134., 144., 232.,  81.,\n",
              "       104.,  59., 246., 297., 258., 229., 275., 281., 179., 200., 200.,\n",
              "       173., 180.,  84., 121., 161.,  99., 109., 115., 268., 274., 158.,\n",
              "       107.,  83., 103., 272.,  85., 280., 336., 281., 118., 317., 235.,\n",
              "        60., 174., 259., 178., 128.,  96., 126., 288.,  88., 292.,  71.,\n",
              "       197., 186.,  25.,  84.,  96., 195.,  53., 217., 172., 131., 214.,\n",
              "        59.,  70., 220., 268., 152.,  47.,  74., 295., 101., 151., 127.,\n",
              "       237., 225.,  81., 151., 107.,  64., 138., 185., 265., 101., 137.,\n",
              "       143., 141.,  79., 292., 178.,  91., 116.,  86., 122.,  72., 129.,\n",
              "       142.,  90., 158.,  39., 196., 222., 277.,  99., 196., 202., 155.,\n",
              "        77., 191.,  70.,  73.,  49.,  65., 263., 248., 296., 214., 185.,\n",
              "        78.,  93., 252., 150.,  77., 208.,  77., 108., 160.,  53., 220.,\n",
              "       154., 259.,  90., 246., 124.,  67.,  72., 257., 262., 275., 177.,\n",
              "        71.,  47., 187., 125.,  78.,  51., 258., 215., 303., 243.,  91.,\n",
              "       150., 310., 153., 346.,  63.,  89.,  50.,  39., 103., 308., 116.,\n",
              "       145.,  74.,  45., 115., 264.,  87., 202., 127., 182., 241.,  66.,\n",
              "        94., 283.,  64., 102., 200., 265.,  94., 230., 181., 156., 233.,\n",
              "        60., 219.,  80.,  68., 332., 248.,  84., 200.,  55.,  85.,  89.,\n",
              "        31., 129.,  83., 275.,  65., 198., 236., 253., 124.,  44., 172.,\n",
              "       114., 142., 109., 180., 144., 163., 147.,  97., 220., 190., 109.,\n",
              "       191., 122., 230., 242., 248., 249., 192., 131., 237.,  78., 135.,\n",
              "       244., 199., 270., 164.,  72.,  96., 306.,  91., 214.,  95., 216.,\n",
              "       263., 178., 113., 200., 139., 139.,  88., 148.,  88., 243.,  71.,\n",
              "        77., 109., 272.,  60.,  54., 221.,  90., 311., 281., 182., 321.,\n",
              "        58., 262., 206., 233., 242., 123., 167.,  63., 197.,  71., 168.,\n",
              "       140., 217., 121., 235., 245.,  40.,  52., 104., 132.,  88.,  69.,\n",
              "       219.,  72., 201., 110.,  51., 277.,  63., 118.,  69., 273., 258.,\n",
              "        43., 198., 242., 232., 175.,  93., 168., 275., 293., 281.,  72.,\n",
              "       140., 189., 181., 209., 136., 261., 113., 131., 174., 257.,  55.,\n",
              "        84.,  42., 146., 212., 233.,  91., 111., 152., 120.,  67., 310.,\n",
              "        94., 183.,  66., 173.,  72.,  49.,  64.,  48., 178., 104., 132.,\n",
              "       220.,  57.])"
            ]
          },
          "metadata": {},
          "execution_count": 21
        }
      ],
      "source": [
        "target"
      ]
    },
    {
      "cell_type": "code",
      "execution_count": 22,
      "id": "723c502f",
      "metadata": {
        "id": "723c502f"
      },
      "outputs": [],
      "source": [
        "data = (data - data.mean())/data.std()\n",
        "target = (target - target.mean())/target.std()"
      ]
    },
    {
      "cell_type": "code",
      "execution_count": 23,
      "id": "8b568823",
      "metadata": {
        "colab": {
          "base_uri": "https://localhost:8080/"
        },
        "id": "8b568823",
        "outputId": "dc17da0a-d489-4194-f8d9-4bf04bf647c3"
      },
      "outputs": [
        {
          "output_type": "execute_result",
          "data": {
            "text/plain": [
              "array([-1.47194752e-02, -1.00165882e+00, -1.44579915e-01,  6.99512942e-01,\n",
              "       -2.22496178e-01, -7.15965848e-01, -1.83538046e-01, -1.15749134e+00,\n",
              "       -5.47147277e-01,  2.05006151e+00, -6.64021672e-01, -1.07957508e+00,\n",
              "        3.48889755e-01,  4.26806019e-01, -4.43258925e-01,  2.45001404e-01,\n",
              "        1.80071184e-01, -1.05621783e-01, -7.15965848e-01,  2.06043272e-01,\n",
              "       -1.09256112e+00, -1.33929596e+00, -1.09256112e+00,  1.20596866e+00,\n",
              "        4.13819975e-01,  6.47568766e-01, -1.96524090e-01, -8.71798376e-01,\n",
              "       -2.74440354e-01,  1.69943833e+00, -3.00412442e-01, -1.20943552e+00,\n",
              "        2.45262887e+00, -8.45826288e-01, -1.13151925e+00, -6.51035629e-01,\n",
              "        1.46568953e+00,  1.60853602e+00,  1.29687096e+00, -8.06868156e-01,\n",
              "       -6.77007716e-01, -1.26137969e+00, -1.18346343e+00, -7.80896068e-01,\n",
              "        1.38777327e+00, -1.28735178e+00,  4.91736239e-01, -1.31593871e-01,\n",
              "       -1.00165882e+00, -1.31593871e-01,  3.72247006e-02,  9.46247777e-01,\n",
              "       -1.20943552e+00, -6.25063541e-01,  3.87847887e-01, -3.13398486e-01,\n",
              "       -1.30033783e+00, -1.49512849e+00,  2.32015360e-01,  2.32015360e-01,\n",
              "       -1.18346343e+00, -1.05621783e-01, -1.30033783e+00, -3.13398486e-01,\n",
              "       -1.05360299e+00,  1.41113052e-01, -2.77055191e-02, -7.15965848e-01,\n",
              "        1.02154920e-01,  3.35903711e-01, -1.35228200e+00,  1.53061975e+00,\n",
              "        6.47568766e-01, -5.34161233e-01, -8.71798376e-01, -1.43019827e+00,\n",
              "        2.32015360e-01,  6.21596678e-01,  1.29687096e+00, -5.08189145e-01,\n",
              "       -1.18607827e-01, -1.31332387e+00, -1.30033783e+00,  7.51457118e-01,\n",
              "       -1.13151925e+00, -1.44579915e-01, -1.26137969e+00, -2.35482222e-01,\n",
              "       -1.43019827e+00, -5.34161233e-01, -7.02979804e-01,  1.54099096e-01,\n",
              "       -1.35228200e+00, -7.28951892e-01, -8.06868156e-01,  1.28127008e-01,\n",
              "       -2.77055191e-02,  1.64749415e+00, -7.80896068e-01, -8.97770464e-01,\n",
              "       -3.13398486e-01, -6.51035629e-01,  1.94617316e+00,  5.95624590e-01,\n",
              "       -7.41937936e-01, -1.28735178e+00, -2.35482222e-01, -1.05621783e-01,\n",
              "        1.03715008e+00, -9.23742551e-01, -6.25063541e-01, -1.20943552e+00,\n",
              "        1.21895470e+00,  1.88124294e+00,  1.37478723e+00,  9.98191953e-01,\n",
              "        1.59554997e+00,  1.67346624e+00,  3.48889755e-01,  6.21596678e-01,\n",
              "        6.21596678e-01,  2.70973492e-01,  3.61875799e-01, -8.84784420e-01,\n",
              "       -4.04300794e-01,  1.15140964e-01, -6.89993760e-01, -5.60133321e-01,\n",
              "       -4.82217057e-01,  1.50464767e+00,  1.58256393e+00,  7.61828325e-02,\n",
              "       -5.86105409e-01, -8.97770464e-01, -6.38049585e-01,  1.55659184e+00,\n",
              "       -8.71798376e-01,  1.66048019e+00,  2.38769865e+00,  1.67346624e+00,\n",
              "       -4.43258925e-01,  2.14096382e+00,  1.07610822e+00, -1.19644947e+00,\n",
              "        2.83959536e-01,  1.38777327e+00,  3.35903711e-01, -3.13398486e-01,\n",
              "       -7.28951892e-01, -3.39370574e-01,  1.76436855e+00, -8.32840244e-01,\n",
              "        1.81631272e+00, -1.05360299e+00,  5.82638546e-01,  4.39792063e-01,\n",
              "       -1.65096101e+00, -8.84784420e-01, -7.28951892e-01,  5.56666458e-01,\n",
              "       -1.28735178e+00,  8.42359425e-01,  2.57987448e-01, -2.74440354e-01,\n",
              "        8.03401293e-01, -1.20943552e+00, -1.06658903e+00,  8.81317557e-01,\n",
              "        1.50464767e+00, -1.73343121e-03, -1.36526805e+00, -1.01464486e+00,\n",
              "        1.85527085e+00, -6.64021672e-01, -1.47194752e-02, -3.26384530e-01,\n",
              "        1.10208030e+00,  9.46247777e-01, -9.23742551e-01, -1.47194752e-02,\n",
              "       -5.86105409e-01, -1.14450530e+00, -1.83538046e-01,  4.26806019e-01,\n",
              "        1.46568953e+00, -6.64021672e-01, -1.96524090e-01, -1.18607827e-01,\n",
              "       -1.44579915e-01, -9.49714639e-01,  1.81631272e+00,  3.35903711e-01,\n",
              "       -7.93882112e-01, -4.69231013e-01, -8.58812332e-01, -3.91314750e-01,\n",
              "       -1.04061695e+00, -3.00412442e-01, -1.31593871e-01, -8.06868156e-01,\n",
              "        7.61828325e-02, -1.46915640e+00,  5.69652502e-01,  9.07289645e-01,\n",
              "        1.62152206e+00, -6.89993760e-01,  5.69652502e-01,  6.47568766e-01,\n",
              "        3.72247006e-02, -9.75686727e-01,  5.04722283e-01, -1.06658903e+00,\n",
              "       -1.02763090e+00, -1.33929596e+00, -1.13151925e+00,  1.43971745e+00,\n",
              "        1.24492679e+00,  1.86825690e+00,  8.03401293e-01,  4.26806019e-01,\n",
              "       -9.62700683e-01, -7.67910024e-01,  1.29687096e+00, -2.77055191e-02,\n",
              "       -9.75686727e-01,  7.25485030e-01, -9.75686727e-01, -5.73119365e-01,\n",
              "        1.02154920e-01, -1.28735178e+00,  8.81317557e-01,  2.42386567e-02,\n",
              "        1.38777327e+00, -8.06868156e-01,  1.21895470e+00, -3.65342662e-01,\n",
              "       -1.10554717e+00, -1.04061695e+00,  1.36180118e+00,  1.42673140e+00,\n",
              "        1.59554997e+00,  3.22917667e-01, -1.05360299e+00, -1.36526805e+00,\n",
              "        4.52778107e-01, -3.52356618e-01, -9.62700683e-01, -1.31332387e+00,\n",
              "        1.37478723e+00,  8.16387337e-01,  1.95915920e+00,  1.17999657e+00,\n",
              "       -7.93882112e-01, -2.77055191e-02,  2.05006151e+00,  1.12526127e-02,\n",
              "        2.51755909e+00, -1.15749134e+00, -8.19854200e-01, -1.32630991e+00,\n",
              "       -1.46915640e+00, -6.38049585e-01,  2.02408942e+00, -4.69231013e-01,\n",
              "       -9.26357388e-02, -1.01464486e+00, -1.39124013e+00, -4.82217057e-01,\n",
              "        1.45270349e+00, -8.45826288e-01,  6.47568766e-01, -3.26384530e-01,\n",
              "        3.87847887e-01,  1.15402448e+00, -1.11853321e+00, -7.54923980e-01,\n",
              "        1.69943833e+00, -1.14450530e+00, -6.51035629e-01,  6.21596678e-01,\n",
              "        1.46568953e+00, -7.54923980e-01,  1.01117800e+00,  3.74861843e-01,\n",
              "        5.02107446e-02,  1.05013613e+00, -1.19644947e+00,  8.68331513e-01,\n",
              "       -9.36728595e-01, -1.09256112e+00,  2.33575448e+00,  1.24492679e+00,\n",
              "       -8.84784420e-01,  6.21596678e-01, -1.26137969e+00, -8.71798376e-01,\n",
              "       -8.19854200e-01, -1.57304475e+00, -3.00412442e-01, -8.97770464e-01,\n",
              "        1.59554997e+00, -1.13151925e+00,  5.95624590e-01,  1.08909426e+00,\n",
              "        1.30985701e+00, -3.65342662e-01, -1.40422618e+00,  2.57987448e-01,\n",
              "       -4.95203101e-01, -1.31593871e-01, -5.60133321e-01,  3.61875799e-01,\n",
              "       -1.05621783e-01,  1.41113052e-01, -6.66636509e-02, -7.15965848e-01,\n",
              "        8.81317557e-01,  4.91736239e-01, -5.60133321e-01,  5.04722283e-01,\n",
              "       -3.91314750e-01,  1.01117800e+00,  1.16701052e+00,  1.24492679e+00,\n",
              "        1.25791283e+00,  5.17708327e-01, -2.74440354e-01,  1.10208030e+00,\n",
              "       -9.62700683e-01, -2.22496178e-01,  1.19298261e+00,  6.08610634e-01,\n",
              "        1.53061975e+00,  1.54099096e-01, -1.04061695e+00, -7.28951892e-01,\n",
              "        1.99811734e+00, -7.93882112e-01,  8.03401293e-01, -7.41937936e-01,\n",
              "        8.29373381e-01,  1.43971745e+00,  3.35903711e-01, -5.08189145e-01,\n",
              "        6.21596678e-01, -1.70552003e-01, -1.70552003e-01, -8.32840244e-01,\n",
              "       -5.36776070e-02, -8.32840244e-01,  1.17999657e+00, -1.05360299e+00,\n",
              "       -9.75686727e-01, -5.60133321e-01,  1.55659184e+00, -1.19644947e+00,\n",
              "       -1.27436574e+00,  8.94303601e-01, -8.06868156e-01,  2.06304756e+00,\n",
              "        1.67346624e+00,  3.87847887e-01,  2.19290800e+00, -1.22242156e+00,\n",
              "        1.42673140e+00,  6.99512942e-01,  1.05013613e+00,  1.16701052e+00,\n",
              "       -3.78328706e-01,  1.93057228e-01, -1.15749134e+00,  5.82638546e-01,\n",
              "       -1.05360299e+00,  2.06043272e-01, -1.57565959e-01,  8.42359425e-01,\n",
              "       -4.04300794e-01,  1.07610822e+00,  1.20596866e+00, -1.45617035e+00,\n",
              "       -1.30033783e+00, -6.25063541e-01, -2.61454310e-01, -8.32840244e-01,\n",
              "       -1.07957508e+00,  8.68331513e-01, -1.04061695e+00,  6.34582722e-01,\n",
              "       -5.47147277e-01, -1.31332387e+00,  1.62152206e+00, -1.15749134e+00,\n",
              "       -4.43258925e-01, -1.07957508e+00,  1.56957789e+00,  1.37478723e+00,\n",
              "       -1.41721222e+00,  5.95624590e-01,  1.16701052e+00,  1.03715008e+00,\n",
              "        2.96945580e-01, -7.67910024e-01,  2.06043272e-01,  1.59554997e+00,\n",
              "        1.82929877e+00,  1.67346624e+00, -1.04061695e+00, -1.57565959e-01,\n",
              "        4.78750195e-01,  3.74861843e-01,  7.38471074e-01, -2.09510134e-01,\n",
              "        1.41374536e+00, -5.08189145e-01, -2.74440354e-01,  2.83959536e-01,\n",
              "        1.36180118e+00, -1.26137969e+00, -8.84784420e-01, -1.43019827e+00,\n",
              "       -7.96496949e-02,  7.77429206e-01,  1.05013613e+00, -7.93882112e-01,\n",
              "       -5.34161233e-01, -1.73343121e-03, -4.17286837e-01, -1.10554717e+00,\n",
              "        2.05006151e+00, -7.54923980e-01,  4.00833931e-01, -1.11853321e+00,\n",
              "        2.70973492e-01, -1.04061695e+00, -1.33929596e+00, -1.14450530e+00,\n",
              "       -1.35228200e+00,  3.35903711e-01, -6.25063541e-01, -2.61454310e-01,\n",
              "        8.81317557e-01, -1.23540761e+00])"
            ]
          },
          "metadata": {},
          "execution_count": 23
        }
      ],
      "source": [
        "target"
      ]
    },
    {
      "cell_type": "code",
      "execution_count": 24,
      "id": "a80b8d36",
      "metadata": {
        "id": "a80b8d36"
      },
      "outputs": [],
      "source": [
        "from sklearn.model_selection import train_test_split"
      ]
    },
    {
      "cell_type": "code",
      "execution_count": 25,
      "id": "63e68cc3",
      "metadata": {
        "id": "63e68cc3"
      },
      "outputs": [],
      "source": [
        "train_data, test_data, train_y, test_y = train_test_split(data, target, test_size=0.1)"
      ]
    },
    {
      "cell_type": "code",
      "execution_count": 26,
      "id": "0e00b23d",
      "metadata": {
        "id": "0e00b23d"
      },
      "outputs": [],
      "source": [
        "from tensorflow.keras.models import Sequential\n",
        "from tensorflow.keras.layers import Dense"
      ]
    },
    {
      "cell_type": "code",
      "execution_count": 27,
      "id": "ed746507",
      "metadata": {
        "id": "ed746507"
      },
      "outputs": [],
      "source": [
        "def get_model():\n",
        "    model = Sequential([\n",
        "        Dense(units = 128, activation ='relu', input_shape= (train_data.shape[1],)),\n",
        "        Dense(128, activation='relu'),\n",
        "        Dense(128, activation='relu'),\n",
        "        Dense(128, activation='relu'),\n",
        "        Dense(128, activation='relu'),\n",
        "        Dense(128, activation='relu'),\n",
        "        Dense(1)\n",
        "    ])\n",
        "    return model"
      ]
    },
    {
      "cell_type": "code",
      "execution_count": 28,
      "id": "fb387b5c",
      "metadata": {
        "id": "fb387b5c"
      },
      "outputs": [],
      "source": [
        "model = get_model()"
      ]
    },
    {
      "cell_type": "code",
      "execution_count": 29,
      "id": "2780982d",
      "metadata": {
        "id": "2780982d"
      },
      "outputs": [],
      "source": [
        "model.compile(optimizer= 'adam',\n",
        "             loss='mae',\n",
        "             metrics=['mae'])"
      ]
    },
    {
      "cell_type": "code",
      "execution_count": 30,
      "id": "9ee847e3",
      "metadata": {
        "id": "9ee847e3"
      },
      "outputs": [],
      "source": [
        "history = model.fit(train_data, train_y, validation_split = 0.15, epochs= 100, batch_size = 64, verbose =False)"
      ]
    },
    {
      "cell_type": "code",
      "execution_count": 31,
      "id": "ae3a7949",
      "metadata": {
        "colab": {
          "base_uri": "https://localhost:8080/"
        },
        "id": "ae3a7949",
        "outputId": "7ecd56fe-4af9-43e9-a600-6d9b3dc05f40"
      },
      "outputs": [
        {
          "output_type": "stream",
          "name": "stdout",
          "text": [
            "2/2 - 0s - loss: 0.6494 - mae: 0.6494 - 57ms/epoch - 29ms/step\n"
          ]
        },
        {
          "output_type": "execute_result",
          "data": {
            "text/plain": [
              "[0.6493614315986633, 0.6493614315986633]"
            ]
          },
          "metadata": {},
          "execution_count": 31
        }
      ],
      "source": [
        "model.evaluate(test_data,test_y, verbose =2)"
      ]
    },
    {
      "cell_type": "code",
      "execution_count": 32,
      "id": "b9bf9b17",
      "metadata": {
        "id": "b9bf9b17"
      },
      "outputs": [],
      "source": [
        "import matplotlib.pyplot as plt\n",
        "%matplotlib inline"
      ]
    },
    {
      "cell_type": "code",
      "execution_count": 33,
      "id": "fd7ee13d",
      "metadata": {
        "colab": {
          "base_uri": "https://localhost:8080/",
          "height": 297
        },
        "id": "fd7ee13d",
        "outputId": "d9df9831-5904-4b12-9cb7-9f221801df41"
      },
      "outputs": [
        {
          "output_type": "display_data",
          "data": {
            "text/plain": [
              "<Figure size 432x288 with 1 Axes>"
            ],
            "image/png": "[encoded data removed]"
          },
          "metadata": {
            "needs_background": "light"
          }
        }
      ],
      "source": [
        "plt.plot(history.history['loss'])\n",
        "plt.plot(history.history['val_loss'])\n",
        "plt.xlabel('Epochs')\n",
        "plt.ylabel('Loss')\n",
        "plt.title('Loss vs Epochs')\n",
        "plt.legend(['Training','Validation'])\n",
        "plt.tight_layout()\n",
        "plt.show()"
      ]
    },
    {
      "cell_type": "markdown",
      "id": "c00fa367",
      "metadata": {
        "id": "c00fa367"
      },
      "source": [
        "## Model Regularization"
      ]
    },
    {
      "cell_type": "markdown",
      "id": "fcc838a4",
      "metadata": {
        "id": "fcc838a4"
      },
      "source": [
        "#### We are going to use L2 Regularization which is also known as weight decay in contect of neural networks as weel as L1 regularization and dropout."
      ]
    },
    {
      "cell_type": "markdown",
      "id": "3cde58eb",
      "metadata": {
        "id": "3cde58eb"
      },
      "source": [
        "#### Here the argument passed to l2 is lambda value which gets multiplied by weight terms squares."
      ]
    },
    {
      "cell_type": "markdown",
      "id": "36a3609c",
      "metadata": {
        "id": "36a3609c"
      },
      "source": [
        "#### We can also use L1 Regularization where the only difference is sum of weights is calculated without squaring terms. But L1 Regularization can set some weight terms equal to zero."
      ]
    },
    {
      "cell_type": "markdown",
      "id": "7b644ed1",
      "metadata": {
        "id": "7b644ed1"
      },
      "source": [
        "#### We can also use both regularization at the same time as shown in the figure."
      ]
    },
    {
      "cell_type": "markdown",
      "id": "6d14953a",
      "metadata": {
        "id": "6d14953a"
      },
      "source": [
        "## Dropout"
      ]
    },
    {
      "cell_type": "code",
      "execution_count": 34,
      "id": "2c19b9ea",
      "metadata": {
        "id": "2c19b9ea"
      },
      "outputs": [],
      "source": [
        "from tensorflow.keras.models import Sequential\n",
        "from tensorflow.keras.layers import Dense, Dropout\n",
        "from tensorflow.keras import regularizers"
      ]
    },
    {
      "cell_type": "code",
      "execution_count": 35,
      "id": "22004ceb",
      "metadata": {
        "id": "22004ceb"
      },
      "outputs": [],
      "source": [
        "def get_regularized_model(wd, rate): #wd= weight decay, rate = dropout rate\n",
        "    model= Sequential([\n",
        "        Dense(128, kernel_regularizer= regularizers.l2(wd), activation = 'relu',input_shape = (train_data.shape[1],)),\n",
        "        Dropout(rate),\n",
        "        Dense(128, kernel_regularizer = regularizers.l2(wd), activation = 'relu'),\n",
        "        Dropout(rate),\n",
        "        Dense(128, kernel_regularizer = regularizers.l2(wd), activation = 'relu'),\n",
        "        Dropout(rate),\n",
        "        Dense(128, kernel_regularizer = regularizers.l2(wd), activation = 'relu'),\n",
        "        Dropout(rate),\n",
        "        Dense(128, kernel_regularizer = regularizers.l2(wd), activation = 'relu'),\n",
        "        Dropout(rate),\n",
        "        Dense(128, kernel_regularizer = regularizers.l2(wd), activation = 'relu'),\n",
        "        Dropout(rate),\n",
        "        Dense(1)\n",
        "              \n",
        "    ])\n",
        "    return model"
      ]
    },
    {
      "cell_type": "code",
      "execution_count": 36,
      "id": "232e9be6",
      "metadata": {
        "id": "232e9be6"
      },
      "outputs": [],
      "source": [
        "model = get_regularized_model(1e-5,0.3)"
      ]
    },
    {
      "cell_type": "code",
      "execution_count": 37,
      "id": "07e25cea",
      "metadata": {
        "id": "07e25cea"
      },
      "outputs": [],
      "source": [
        "model.compile(optimizer= 'adam',\n",
        "             loss= 'mean_squared_error',\n",
        "             metrics = ['mae'])"
      ]
    },
    {
      "cell_type": "code",
      "execution_count": 38,
      "id": "e41864f6",
      "metadata": {
        "id": "e41864f6"
      },
      "outputs": [],
      "source": [
        "history = model.fit(train_data, train_y, validation_split = 0.15, epochs =100, batch_size =64, verbose =False)"
      ]
    },
    {
      "cell_type": "code",
      "execution_count": 39,
      "id": "6f7720d1",
      "metadata": {
        "colab": {
          "base_uri": "https://localhost:8080/"
        },
        "id": "6f7720d1",
        "outputId": "2f9acd34-7e14-4fbe-c346-4d218be62f9f"
      },
      "outputs": [
        {
          "output_type": "stream",
          "name": "stdout",
          "text": [
            "2/2 - 0s - loss: 0.5219 - mae: 0.6186 - 20ms/epoch - 10ms/step\n"
          ]
        },
        {
          "output_type": "execute_result",
          "data": {
            "text/plain": [
              "[0.5219252705574036, 0.6185912489891052]"
            ]
          },
          "metadata": {},
          "execution_count": 39
        }
      ],
      "source": [
        "model.evaluate(test_data, test_y, verbose =2)"
      ]
    },
    {
      "cell_type": "code",
      "execution_count": 40,
      "id": "ed795b62",
      "metadata": {
        "colab": {
          "base_uri": "https://localhost:8080/",
          "height": 312
        },
        "id": "ed795b62",
        "outputId": "a6733caf-a32a-45c0-e1f0-b408747b72f9"
      },
      "outputs": [
        {
          "output_type": "execute_result",
          "data": {
            "text/plain": [
              "Text(0.5, 1.0, 'Loss vs Epochs')"
            ]
          },
          "metadata": {},
          "execution_count": 40
        },
        {
          "output_type": "display_data",
          "data": {
            "text/plain": [
              "<Figure size 432x288 with 1 Axes>"
            ],
            "image/png": "[encoded data removed]"
          },
          "metadata": {
            "needs_background": "light"
          }
        }
      ],
      "source": [
        "plt.plot(history.history['loss'])\n",
        "plt.plot(history.history['val_loss'])\n",
        "plt.legend(['Training  Set', 'Validation Set'])\n",
        "plt.ylabel('Loss')\n",
        "plt.xlabel('Epochs')\n",
        "plt.title('Loss vs Epochs')"
      ]
    },
    {
      "cell_type": "markdown",
      "id": "64490455",
      "metadata": {
        "id": "64490455"
      },
      "source": [
        "Hence After L2 regularization and dropout, the problem of overfitting is pretty much resolved."
      ]
    },
    {
      "cell_type": "markdown",
      "id": "6ee73023",
      "metadata": {
        "id": "6ee73023"
      },
      "source": [
        "## Callbacks"
      ]
    },
    {
      "cell_type": "markdown",
      "id": "15e5fcb0",
      "metadata": {
        "id": "15e5fcb0"
      },
      "source": [
        "![image.png](attachment:image.png)"
      ]
    },
    {
      "cell_type": "markdown",
      "id": "30d1fceb",
      "metadata": {
        "id": "30d1fceb"
      },
      "source": [
        "### Introduction to Callbacks"
      ]
    },
    {
      "cell_type": "code",
      "execution_count": 41,
      "id": "4dbfb72e",
      "metadata": {
        "id": "4dbfb72e"
      },
      "outputs": [],
      "source": [
        "from tensorflow.keras.callbacks import Callback"
      ]
    },
    {
      "cell_type": "markdown",
      "id": "ad567c8b",
      "metadata": {
        "id": "ad567c8b"
      },
      "source": [
        "callbacks module contain all the callbacks while Callback is the base class from which we will inherit the functions."
      ]
    },
    {
      "cell_type": "code",
      "execution_count": 42,
      "id": "1ac05279",
      "metadata": {
        "id": "1ac05279"
      },
      "outputs": [],
      "source": [
        "class Training_Callback(Callback):\n",
        "    def on_train_begin(self, logs= None):\n",
        "        print(\"Training Started...\")\n",
        "    def on_train_batch_begin(self,batch, logs=None):\n",
        "        print(f\"Training Started for {batch} Batch..\")\n",
        "    def on_epoch_begin(self, epoch, logs = None):\n",
        "        print(f\"Training of Epoch {epoch}\")\n",
        "    def on_train_batch_end(self, batch, logs =False):\n",
        "        print(f'Training of {batch} Batch Ended')\n",
        "    def on_epoch_end(self,epoch, logs = None):\n",
        "        print(f'Trainig of {epoch} Epoch ended')\n",
        "    def on_train_end(self, logs=None):\n",
        "        print(\"Training Ended........\")"
      ]
    },
    {
      "cell_type": "code",
      "execution_count": 43,
      "id": "6d2188da",
      "metadata": {
        "id": "6d2188da"
      },
      "outputs": [],
      "source": [
        "model = get_regularized_model(1e-5,0.3)"
      ]
    },
    {
      "cell_type": "code",
      "execution_count": 44,
      "id": "0d4da607",
      "metadata": {
        "id": "0d4da607"
      },
      "outputs": [],
      "source": [
        "model.compile(optimizer='adam',\n",
        "             loss = 'mse')"
      ]
    },
    {
      "cell_type": "code",
      "execution_count": 45,
      "id": "f7ba5123",
      "metadata": {
        "colab": {
          "base_uri": "https://localhost:8080/"
        },
        "id": "f7ba5123",
        "outputId": "8e89f729-afb9-4ef8-f743-a1c26fc640d4"
      },
      "outputs": [
        {
          "output_type": "stream",
          "name": "stdout",
          "text": [
            "Training Started...\n",
            "Training of Epoch 0\n",
            "Training Started for 0 Batch..\n",
            "Training of 0 Batch Ended\n",
            "Training Started for 1 Batch..\n",
            "Training of 1 Batch Ended\n",
            "Training Started for 2 Batch..\n",
            "Training of 2 Batch Ended\n",
            "Training Started for 3 Batch..\n",
            "Training of 3 Batch Ended\n",
            "Trainig of 0 Epoch ended\n",
            "Training of Epoch 1\n",
            "Training Started for 0 Batch..\n",
            "Training of 0 Batch Ended\n",
            "Training Started for 1 Batch..\n",
            "Training of 1 Batch Ended\n",
            "Training Started for 2 Batch..\n",
            "Training of 2 Batch Ended\n",
            "Training Started for 3 Batch..\n",
            "Training of 3 Batch Ended\n",
            "Trainig of 1 Epoch ended\n",
            "Training of Epoch 2\n",
            "Training Started for 0 Batch..\n",
            "Training of 0 Batch Ended\n",
            "Training Started for 1 Batch..\n",
            "Training of 1 Batch Ended\n",
            "Training Started for 2 Batch..\n",
            "Training of 2 Batch Ended\n",
            "Training Started for 3 Batch..\n",
            "Training of 3 Batch Ended\n",
            "Trainig of 2 Epoch ended\n",
            "Training Ended........\n"
          ]
        }
      ],
      "source": [
        "history = model.fit(train_data, train_y, epochs =3, batch_size =128, verbose = False, callbacks = [Training_Callback()])"
      ]
    },
    {
      "cell_type": "markdown",
      "id": "6b41b751",
      "metadata": {
        "id": "6b41b751"
      },
      "source": [
        "Now similar callback function can be generated for the test callback but as in testing, there are no epochs involved so epoch functions will not be present there. and that callback can be given as input to model.evaluate."
      ]
    },
    {
      "cell_type": "code",
      "execution_count": 46,
      "id": "611f93e9",
      "metadata": {
        "id": "611f93e9"
      },
      "outputs": [],
      "source": [
        "class Testing_Callback(Callback):\n",
        "    def on_test_begin(self, logs= None):\n",
        "        print(\"Testing Started...\")\n",
        "    def on_test_batch_begin(self,batch, logs=None):\n",
        "        print(f\"Testing Started for {batch} Batch..\")\n",
        "    def on_test_batch_end(self, batch, logs =False):\n",
        "        print(f'Testing of {batch} Batch Ended')\n",
        "    def on_test_end(self, logs=None):\n",
        "        print(\"Testing Ended........\")"
      ]
    },
    {
      "cell_type": "code",
      "execution_count": 47,
      "id": "26b5db68",
      "metadata": {
        "colab": {
          "base_uri": "https://localhost:8080/"
        },
        "id": "26b5db68",
        "outputId": "607d181d-082e-483b-fc47-680855a3068d"
      },
      "outputs": [
        {
          "output_type": "stream",
          "name": "stdout",
          "text": [
            "Testing Started...\n",
            "Testing Started for 0 Batch..\n",
            "Testing of 0 Batch Ended\n",
            "Testing Started for 1 Batch..\n",
            "Testing of 1 Batch Ended\n",
            "Testing Ended........\n"
          ]
        },
        {
          "output_type": "execute_result",
          "data": {
            "text/plain": [
              "0.6854146122932434"
            ]
          },
          "metadata": {},
          "execution_count": 47
        }
      ],
      "source": [
        "model.evaluate(test_data, test_y, verbose =False, callbacks = [Testing_Callback()])"
      ]
    },
    {
      "cell_type": "code",
      "execution_count": 48,
      "id": "4192b58f",
      "metadata": {
        "id": "4192b58f"
      },
      "outputs": [],
      "source": [
        "class Prediction_Callback(Callback):\n",
        "    def on_predict_begin(self, logs= None):\n",
        "        print(\"Prediction Started...\")\n",
        "    def on_predict_batch_begin(self,batch, logs=None):\n",
        "        print(f\"Prediction Started for {batch} Batch..\")\n",
        "    def on_predict_batch_end(self, batch, logs =False):\n",
        "        print(f'Prediction of {batch} Batch Ended')\n",
        "    def on_predict_end(self, logs=None):\n",
        "        print(\"Prediction Ended........\")"
      ]
    },
    {
      "cell_type": "code",
      "execution_count": 49,
      "id": "97bc266e",
      "metadata": {
        "colab": {
          "base_uri": "https://localhost:8080/"
        },
        "id": "97bc266e",
        "outputId": "4703fad4-aff3-4847-d368-2bb9d782fff9"
      },
      "outputs": [
        {
          "output_type": "stream",
          "name": "stdout",
          "text": [
            "Prediction Started...\n",
            "Prediction Started for 0 Batch..\n",
            "Prediction of 0 Batch Ended\n",
            "Prediction Started for 1 Batch..\n",
            "Prediction of 1 Batch Ended\n",
            "Prediction Ended........\n"
          ]
        },
        {
          "output_type": "execute_result",
          "data": {
            "text/plain": [
              "array([[ 0.29870644],\n",
              "       [ 0.31453076],\n",
              "       [-0.27811563],\n",
              "       [ 0.12773383],\n",
              "       [ 0.2653818 ],\n",
              "       [ 0.4703128 ],\n",
              "       [ 0.24040309],\n",
              "       [ 0.46737412],\n",
              "       [ 0.3841028 ],\n",
              "       [-0.30189797],\n",
              "       [ 0.27624023],\n",
              "       [ 0.46351334],\n",
              "       [-0.52899814],\n",
              "       [-0.5742471 ],\n",
              "       [-0.00438905],\n",
              "       [-0.14326483],\n",
              "       [-0.6388348 ],\n",
              "       [-0.02443994],\n",
              "       [ 0.2712513 ],\n",
              "       [ 0.31094065],\n",
              "       [ 0.1982939 ],\n",
              "       [-0.19884586],\n",
              "       [ 0.41221997],\n",
              "       [-0.546057  ],\n",
              "       [-0.23303801],\n",
              "       [ 0.09732007],\n",
              "       [ 0.08472978],\n",
              "       [-0.41372654],\n",
              "       [ 0.18610078],\n",
              "       [ 0.59763026],\n",
              "       [ 0.11120862],\n",
              "       [-0.39559737],\n",
              "       [-0.3618828 ],\n",
              "       [-0.00643269],\n",
              "       [ 0.21414453],\n",
              "       [-0.24409923],\n",
              "       [-0.01005416],\n",
              "       [ 0.03383434],\n",
              "       [ 0.27475443],\n",
              "       [ 0.20308395],\n",
              "       [ 0.69131243],\n",
              "       [-0.5462388 ],\n",
              "       [ 0.17854011],\n",
              "       [ 0.16910711],\n",
              "       [ 0.0686067 ]], dtype=float32)"
            ]
          },
          "metadata": {},
          "execution_count": 49
        }
      ],
      "source": [
        "model.predict(test_data, verbose =False, callbacks = [Prediction_Callback()])"
      ]
    },
    {
      "cell_type": "markdown",
      "id": "8a9bdd82",
      "metadata": {
        "id": "8a9bdd82"
      },
      "source": [
        "## Early Stopping"
      ]
    },
    {
      "cell_type": "markdown",
      "id": "ccb84ed2",
      "metadata": {
        "id": "ccb84ed2"
      },
      "source": [
        "Now EarlyStopping is predefined callback class present inn callbacks.\n",
        "- **monitor** argument is used to monitor the quantity obtained from model.compile, it may be accuracy or loss.\n",
        "- **patience** indicates the number of epochs to wait and notice the monitor quantity before early stopping.\n",
        "- **min_delta** is the minimum change in positive direction that will be considered as an improvement.\n",
        "- **mode** is by default auto which function decides based on the quantity but it can also be set manually as max or min depending upon the quantity."
      ]
    },
    {
      "cell_type": "code",
      "execution_count": 50,
      "id": "4916dbd9",
      "metadata": {
        "id": "4916dbd9"
      },
      "outputs": [],
      "source": [
        "def get_model():\n",
        "    model = Sequential([\n",
        "        Dense(units = 128, activation ='relu', input_shape= (train_data.shape[1],)),\n",
        "        Dense(128, activation='relu'),\n",
        "        Dense(128, activation='relu'),\n",
        "        Dense(128, activation='relu'),\n",
        "        Dense(128, activation='relu'),\n",
        "        Dense(128, activation='relu'),\n",
        "        Dense(1)\n",
        "    ])\n",
        "    return model"
      ]
    },
    {
      "cell_type": "code",
      "execution_count": 51,
      "id": "ff7fc0f5",
      "metadata": {
        "id": "ff7fc0f5"
      },
      "outputs": [],
      "source": [
        "unregularized  = get_model()"
      ]
    },
    {
      "cell_type": "code",
      "execution_count": 52,
      "id": "72a79af3",
      "metadata": {
        "id": "72a79af3"
      },
      "outputs": [],
      "source": [
        "unregularized.compile(loss='mse', optimizer = 'adam')"
      ]
    },
    {
      "cell_type": "code",
      "execution_count": 53,
      "id": "d695f8ab",
      "metadata": {
        "id": "d695f8ab"
      },
      "outputs": [],
      "source": [
        "history = unregularized.fit(train_data, train_y, validation_split = 0.15 , verbose = False, epochs =100, batch_size =64,\n",
        "                           callbacks = [tf.keras.callbacks.EarlyStopping(patience =2)])"
      ]
    },
    {
      "cell_type": "code",
      "execution_count": 54,
      "id": "c7afb705",
      "metadata": {
        "colab": {
          "base_uri": "https://localhost:8080/"
        },
        "id": "c7afb705",
        "outputId": "e0b2578a-30d1-47f8-a65d-03668ad47c4d"
      },
      "outputs": [
        {
          "output_type": "stream",
          "name": "stdout",
          "text": [
            "2/2 - 0s - loss: 0.5655 - 19ms/epoch - 10ms/step\n"
          ]
        },
        {
          "output_type": "execute_result",
          "data": {
            "text/plain": [
              "0.5655269026756287"
            ]
          },
          "metadata": {},
          "execution_count": 54
        }
      ],
      "source": [
        "unregularized.evaluate(test_data, test_y, verbose =2)"
      ]
    },
    {
      "cell_type": "markdown",
      "id": "779518e2",
      "metadata": {
        "id": "779518e2"
      },
      "source": [
        "#### Now Regularized Model"
      ]
    },
    {
      "cell_type": "code",
      "execution_count": 55,
      "id": "be226f0a",
      "metadata": {
        "id": "be226f0a"
      },
      "outputs": [],
      "source": [
        "regularized = get_regularized_model(1e-8,0.2)"
      ]
    },
    {
      "cell_type": "code",
      "execution_count": 56,
      "id": "a28c53eb",
      "metadata": {
        "id": "a28c53eb"
      },
      "outputs": [],
      "source": [
        "regularized.compile(optimizer ='adam',\n",
        "                   loss = 'mse')"
      ]
    },
    {
      "cell_type": "code",
      "execution_count": 57,
      "id": "a788d561",
      "metadata": {
        "id": "a788d561"
      },
      "outputs": [],
      "source": [
        "reg_history = regularized.fit(train_data, train_y, epochs =100, validation_split = 0.15, verbose =False,\n",
        "                             batch_size = 64, callbacks  = [tf.keras.callbacks.EarlyStopping(patience=2)])"
      ]
    },
    {
      "cell_type": "code",
      "execution_count": 58,
      "id": "22f4a583",
      "metadata": {
        "colab": {
          "base_uri": "https://localhost:8080/"
        },
        "id": "22f4a583",
        "outputId": "dc66531a-cca6-4098-9c07-a201d92df08e"
      },
      "outputs": [
        {
          "output_type": "stream",
          "name": "stdout",
          "text": [
            "2/2 - 0s - loss: 0.5001 - 24ms/epoch - 12ms/step\n"
          ]
        },
        {
          "output_type": "execute_result",
          "data": {
            "text/plain": [
              "0.500089168548584"
            ]
          },
          "metadata": {},
          "execution_count": 58
        }
      ],
      "source": [
        "regularized.evaluate(test_data,test_y,verbose =2)"
      ]
    },
    {
      "cell_type": "code",
      "execution_count": 59,
      "id": "7526125f",
      "metadata": {
        "id": "7526125f"
      },
      "outputs": [],
      "source": [
        "import matplotlib.pyplot as plt\n",
        "%matplotlib inline"
      ]
    },
    {
      "cell_type": "code",
      "execution_count": 60,
      "id": "8d29c263",
      "metadata": {
        "colab": {
          "base_uri": "https://localhost:8080/",
          "height": 407
        },
        "id": "8d29c263",
        "outputId": "9b271d75-cd4f-426b-98b9-01f97a8d9be3"
      },
      "outputs": [
        {
          "output_type": "display_data",
          "data": {
            "text/plain": [
              "<Figure size 600x400 with 2 Axes>"
            ],
            "image/png": "[encoded data removed]"
          },
          "metadata": {
            "needs_background": "light"
          }
        }
      ],
      "source": [
        "fig = plt.figure(dpi = 100)\n",
        "\n",
        "fig.add_subplot(121)\n",
        "plt.title('Un-Regularized Model')\n",
        "plt.xlabel('Epochs')\n",
        "plt.ylabel('Loss')\n",
        "plt.plot(history.history['val_loss'])\n",
        "plt.plot(history.history['loss'])\n",
        "\n",
        "fig.add_subplot(122)\n",
        "plt.plot(reg_history.history['val_loss'])\n",
        "plt.plot(reg_history.history['loss'])\n",
        "plt.title('Regularized Model')\n",
        "plt.xlabel('Epochs')\n",
        "plt.ylabel('Loss')\n",
        "plt.tight_layout()"
      ]
    },
    {
      "cell_type": "code",
      "execution_count": 60,
      "id": "63ea7cfd",
      "metadata": {
        "id": "63ea7cfd"
      },
      "outputs": [],
      "source": [
        ""
      ]
    }
  ],
  "metadata": {
    "kernelspec": {
      "display_name": "Python 3",
      "language": "python",
      "name": "python3"
    },
    "language_info": {
      "codemirror_mode": {
        "name": "ipython",
        "version": 3
      },
      "file_extension": ".py",
      "mimetype": "text/x-python",
      "name": "python",
      "nbconvert_exporter": "python",
      "pygments_lexer": "ipython3",
      "version": "3.7.10"
    },
    "colab": {
      "name": "Diabetes Prediction.ipynb",
      "provenance": []
    }
  },
  "nbformat": 4,
  "nbformat_minor": 5
}